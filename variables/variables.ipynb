{
 "cells": [
  {
   "attachments": {},
   "cell_type": "markdown",
   "metadata": {},
   "source": [
    "## python声明变量"
   ]
  },
  {
   "cell_type": "code",
   "execution_count": 1,
   "metadata": {},
   "outputs": [
    {
     "name": "stdout",
     "output_type": "stream",
     "text": [
      "10 20 30\n"
     ]
    }
   ],
   "source": [
    "a, b, c = 10, 20, 30\n",
    "print(a, b, c)"
   ]
  },
  {
   "cell_type": "code",
   "execution_count": 2,
   "metadata": {},
   "outputs": [
    {
     "name": "stdout",
     "output_type": "stream",
     "text": [
      "10 hello True\n"
     ]
    }
   ],
   "source": [
    "a, b, c = 10, \"hello\", True\n",
    "\n",
    "print(a, b, c)\n",
    "\n",
    "# python的布尔变量是True or False"
   ]
  },
  {
   "cell_type": "code",
   "execution_count": 3,
   "metadata": {},
   "outputs": [
    {
     "name": "stdout",
     "output_type": "stream",
     "text": [
      "3.14 10\n"
     ]
    }
   ],
   "source": [
    "# python声明常量直接用大写字母表示\n",
    "PI = 3.14\n",
    "MAX = 10\n",
    "\n",
    "print(PI, MAX)"
   ]
  },
  {
   "cell_type": "code",
   "execution_count": 1,
   "metadata": {},
   "outputs": [
    {
     "name": "stdout",
     "output_type": "stream",
     "text": [
      "apples\n",
      "bananas\n",
      "peaches\n"
     ]
    }
   ],
   "source": [
    "fruits = [\"apples\", \"bananas\", \"peaches\"]\n",
    "\n",
    "for i in fruits : \n",
    "    print(i)"
   ]
  },
  {
   "cell_type": "code",
   "execution_count": 2,
   "metadata": {},
   "outputs": [
    {
     "name": "stdout",
     "output_type": "stream",
     "text": [
      "30\n"
     ]
    }
   ],
   "source": [
    "def func(x, y) :\n",
    "    result = x + y\n",
    "    return result\n",
    "\n",
    "\n",
    "res = func(10, 20)\n",
    "print(res)"
   ]
  },
  {
   "cell_type": "code",
   "execution_count": 4,
   "metadata": {},
   "outputs": [
    {
     "name": "stdout",
     "output_type": "stream",
     "text": [
      "hello,jhon\n",
      "hello,jack\n"
     ]
    }
   ],
   "source": [
    "#使用默认值的函数\n",
    "\n",
    "def greet(name, message = \"hello\" ):\n",
    "    print(message + \",\" + name)\n",
    "\n",
    "\n",
    "greet(\"jhon\")\n",
    "greet(\"jack\")"
   ]
  },
  {
   "cell_type": "code",
   "execution_count": 5,
   "metadata": {},
   "outputs": [
    {
     "name": "stdout",
     "output_type": "stream",
     "text": [
      "one two three four\n"
     ]
    }
   ],
   "source": [
    "# 定义可变参数\n",
    "\n",
    "def print_args(*args):\n",
    "    for i in args:\n",
    "        print(i)\n",
    "\n",
    "print(\"one\", \"two\", \"three\", \"four\")"
   ]
  }
 ],
 "metadata": {
  "kernelspec": {
   "display_name": "Python 3",
   "language": "python",
   "name": "python3"
  },
  "language_info": {
   "codemirror_mode": {
    "name": "ipython",
    "version": 3
   },
   "file_extension": ".py",
   "mimetype": "text/x-python",
   "name": "python",
   "nbconvert_exporter": "python",
   "pygments_lexer": "ipython3",
   "version": "3.10.6"
  },
  "orig_nbformat": 4
 },
 "nbformat": 4,
 "nbformat_minor": 2
}
